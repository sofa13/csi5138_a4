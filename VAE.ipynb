{
 "cells": [
  {
   "cell_type": "markdown",
   "metadata": {},
   "source": [
    "# Setup"
   ]
  },
  {
   "cell_type": "code",
   "execution_count": 13,
   "metadata": {},
   "outputs": [],
   "source": [
    "from keras.layers import Lambda, Input, Dense\n",
    "from keras.models import Model\n",
    "from keras.datasets import mnist\n",
    "from keras.losses import mse, binary_crossentropy\n",
    "from keras.utils import plot_model\n",
    "from keras import backend as K\n",
    "from keras.optimizers import RMSprop, Adagrad, Adam, SGD\n",
    "\n",
    "import numpy as np\n",
    "import matplotlib.pyplot as plt\n",
    "import argparse\n",
    "import os\n",
    "\n",
    "from pprint import pprint"
   ]
  },
  {
   "cell_type": "markdown",
   "metadata": {},
   "source": [
    "# Implementation"
   ]
  },
  {
   "cell_type": "code",
   "execution_count": null,
   "metadata": {},
   "outputs": [],
   "source": [
    "# Reference architecture from\n",
    "# https://blog.keras.io/building-autoencoders-in-keras.html"
   ]
  },
  {
   "cell_type": "code",
   "execution_count": 2,
   "metadata": {},
   "outputs": [],
   "source": [
    "(x_train, y_train), (x_test, y_test) = mnist.load_data()\n",
    "#x_train = x_train[:len(x_test)]\n",
    "#x_test = x_test[:7500]\n",
    "\n",
    "image_size = x_train.shape[1]\n",
    "original_dim = image_size * image_size\n",
    "x_train = np.reshape(x_train, [-1, original_dim])\n",
    "x_test = np.reshape(x_test, [-1, original_dim])\n",
    "x_train = x_train.astype('float32') / 255\n",
    "x_test = x_test.astype('float32') / 255\n",
    "\n",
    "# network parameters\n",
    "input_shape = (original_dim, )\n",
    "intermediate_dim = 512\n",
    "batch_size = 100\n",
    "latent_dim = 2\n",
    "epochs = 50"
   ]
  },
  {
   "cell_type": "code",
   "execution_count": 3,
   "metadata": {},
   "outputs": [
    {
     "name": "stdout",
     "output_type": "stream",
     "text": [
      "60000\n",
      "(60000, 784)\n",
      "10000\n",
      "(10000, 784)\n"
     ]
    }
   ],
   "source": [
    "print(len(x_train))\n",
    "print(x_train.shape)\n",
    "print(len(x_test))\n",
    "print(x_test.shape)"
   ]
  },
  {
   "cell_type": "markdown",
   "metadata": {},
   "source": [
    "Encoder network, mapping inputs to our latent distribution parameters."
   ]
  },
  {
   "cell_type": "code",
   "execution_count": 4,
   "metadata": {},
   "outputs": [],
   "source": [
    "x = Input(batch_shape=(batch_size, original_dim))\n",
    "h = Dense(intermediate_dim, activation='relu')(x)\n",
    "z_mean = Dense(latent_dim)(h)\n",
    "z_log_sigma = Dense(latent_dim)(h)"
   ]
  },
  {
   "cell_type": "markdown",
   "metadata": {},
   "source": [
    "Use these parameters to sample new similar points from the latent space."
   ]
  },
  {
   "cell_type": "code",
   "execution_count": 5,
   "metadata": {},
   "outputs": [],
   "source": [
    "def sampling(args):\n",
    "    z_mean, z_log_sigma = args\n",
    "    # by default, random_normal has mean=0 and std=1.0\n",
    "    epsilon = K.random_normal(shape=(batch_size, latent_dim))\n",
    "    return z_mean + K.exp(z_log_sigma) * epsilon\n",
    "\n",
    "# note that \"output_shape\" isn't necessary with the TensorFlow backend\n",
    "# so you could write `Lambda(sampling)([z_mean, z_log_sigma])`\n",
    "z = Lambda(sampling, output_shape=(latent_dim,))([z_mean, z_log_sigma])"
   ]
  },
  {
   "cell_type": "markdown",
   "metadata": {},
   "source": [
    "Map these sampled latent points back to reconstructed inputs."
   ]
  },
  {
   "cell_type": "code",
   "execution_count": 6,
   "metadata": {},
   "outputs": [],
   "source": [
    "decoder_h = Dense(intermediate_dim, activation='relu')\n",
    "decoder_mean = Dense(original_dim, activation='sigmoid')\n",
    "h_decoded = decoder_h(z)\n",
    "x_decoded_mean = decoder_mean(h_decoded)"
   ]
  },
  {
   "cell_type": "markdown",
   "metadata": {},
   "source": [
    "So far this allows us to instantiate 3 models:\n",
    "\n",
    "- an end-to-end autoencoder mapping inputs to reconstructions\n",
    "- an encoder mapping inputs to the latent space\n",
    "- a generator that can take points on the latent space and will output the corresponding reconstructed samples."
   ]
  },
  {
   "cell_type": "code",
   "execution_count": 7,
   "metadata": {},
   "outputs": [],
   "source": [
    "# end-to-end autoencoder\n",
    "vae = Model(x, x_decoded_mean)\n",
    "\n",
    "# encoder, from inputs to latent space\n",
    "encoder = Model(x, z_mean)\n",
    "\n",
    "# generator, from latent space to reconstructed inputs\n",
    "decoder_input = Input(shape=(latent_dim,))\n",
    "_h_decoded = decoder_h(decoder_input)\n",
    "_x_decoded_mean = decoder_mean(_h_decoded)\n",
    "generator = Model(decoder_input, _x_decoded_mean)"
   ]
  },
  {
   "cell_type": "markdown",
   "metadata": {},
   "source": [
    "Train the model using the end-to-end model, with a custom loss function: the sum of a reconstruction term, and the KL divergence regularization term."
   ]
  },
  {
   "cell_type": "code",
   "execution_count": 8,
   "metadata": {},
   "outputs": [],
   "source": [
    "def vae_loss(x, x_decoded_mean):\n",
    "    xent_loss = binary_crossentropy(x, x_decoded_mean)\n",
    "    kl_loss = - 0.5 * K.mean(1 + z_log_sigma - K.square(z_mean) - K.exp(z_log_sigma), axis=-1)\n",
    "    return xent_loss + kl_loss\n",
    "\n",
    "sgd = SGD()\n",
    "vae.compile(optimizer=sgd, loss=vae_loss)"
   ]
  },
  {
   "cell_type": "markdown",
   "metadata": {},
   "source": [
    "# Training"
   ]
  },
  {
   "cell_type": "markdown",
   "metadata": {},
   "source": [
    "Train our VAE on MNIST digits."
   ]
  },
  {
   "cell_type": "code",
   "execution_count": 9,
   "metadata": {},
   "outputs": [
    {
     "name": "stdout",
     "output_type": "stream",
     "text": [
      "Train on 60000 samples, validate on 10000 samples\n",
      "Epoch 1/50\n",
      "60000/60000 [==============================] - 25s 415us/step - loss: 0.7102 - val_loss: 0.7023\n",
      "Epoch 2/50\n",
      "60000/60000 [==============================] - 15s 249us/step - loss: 0.6997 - val_loss: 0.6971\n",
      "Epoch 3/50\n",
      "60000/60000 [==============================] - 17s 288us/step - loss: 0.6952 - val_loss: 0.6933\n",
      "Epoch 4/50\n",
      "60000/60000 [==============================] - 15s 254us/step - loss: 0.6916 - val_loss: 0.6899\n",
      "Epoch 5/50\n",
      "60000/60000 [==============================] - 15s 251us/step - loss: 0.6884 - val_loss: 0.6868\n",
      "Epoch 6/50\n",
      "60000/60000 [==============================] - 17s 278us/step - loss: 0.6853 - val_loss: 0.6838\n",
      "Epoch 7/50\n",
      "60000/60000 [==============================] - 16s 272us/step - loss: 0.6822 - val_loss: 0.6807\n",
      "Epoch 8/50\n",
      "60000/60000 [==============================] - 16s 268us/step - loss: 0.6791 - val_loss: 0.6775\n",
      "Epoch 9/50\n",
      "60000/60000 [==============================] - 16s 264us/step - loss: 0.6760 - val_loss: 0.6744\n",
      "Epoch 10/50\n",
      "60000/60000 [==============================] - 16s 274us/step - loss: 0.6727 - val_loss: 0.6710\n",
      "Epoch 11/50\n",
      "60000/60000 [==============================] - 17s 289us/step - loss: 0.6694 - val_loss: 0.6676\n",
      "Epoch 12/50\n",
      "60000/60000 [==============================] - 16s 270us/step - loss: 0.6658 - val_loss: 0.6639\n",
      "Epoch 13/50\n",
      "60000/60000 [==============================] - 14s 236us/step - loss: 0.6620 - val_loss: 0.6601\n",
      "Epoch 14/50\n",
      "60000/60000 [==============================] - 14s 226us/step - loss: 0.6581 - val_loss: 0.6560\n",
      "Epoch 15/50\n",
      "60000/60000 [==============================] - 17s 275us/step - loss: 0.6538 - val_loss: 0.6517\n",
      "Epoch 16/50\n",
      "60000/60000 [==============================] - 16s 262us/step - loss: 0.6492 - val_loss: 0.6468\n",
      "Epoch 17/50\n",
      "60000/60000 [==============================] - 15s 252us/step - loss: 0.6442 - val_loss: 0.6417l\n",
      "Epoch 18/50\n",
      "60000/60000 [==============================] - 14s 240us/step - loss: 0.6388 - val_loss: 0.6359\n",
      "Epoch 19/50\n",
      "60000/60000 [==============================] - 15s 256us/step - loss: 0.6329 - val_loss: 0.6300\n",
      "Epoch 20/50\n",
      "60000/60000 [==============================] - 17s 289us/step - loss: 0.6266 - val_loss: 0.6232\n",
      "Epoch 21/50\n",
      "60000/60000 [==============================] - 17s 276us/step - loss: 0.6198 - val_loss: 0.6161\n",
      "Epoch 22/50\n",
      "60000/60000 [==============================] - 16s 270us/step - loss: 0.6122 - val_loss: 0.6083\n",
      "Epoch 23/50\n",
      "60000/60000 [==============================] - 15s 252us/step - loss: 0.6042 - val_loss: 0.5999\n",
      "Epoch 24/50\n",
      "60000/60000 [==============================] - 16s 273us/step - loss: 0.5953 - val_loss: 0.5908\n",
      "Epoch 25/50\n",
      "60000/60000 [==============================] - 16s 274us/step - loss: 0.5860 - val_loss: 0.5808\n",
      "Epoch 26/50\n",
      "60000/60000 [==============================] - 15s 243us/step - loss: 0.5756 - val_loss: 0.5705\n",
      "Epoch 27/50\n",
      "60000/60000 [==============================] - 16s 260us/step - loss: 0.5647 - val_loss: 0.5589\n",
      "Epoch 28/50\n",
      "60000/60000 [==============================] - 14s 226us/step - loss: 0.5531 - val_loss: 0.5472\n",
      "Epoch 29/50\n",
      "60000/60000 [==============================] - 15s 244us/step - loss: 0.5409 - val_loss: 0.5347\n",
      "Epoch 30/50\n",
      "60000/60000 [==============================] - 14s 227us/step - loss: 0.5283 - val_loss: 0.5214\n",
      "Epoch 31/50\n",
      "60000/60000 [==============================] - 16s 263us/step - loss: 0.5150 - val_loss: 0.5081\n",
      "Epoch 32/50\n",
      "60000/60000 [==============================] - 15s 242us/step - loss: 0.5014 - val_loss: 0.4944\n",
      "Epoch 33/50\n",
      "60000/60000 [==============================] - 14s 232us/step - loss: 0.4876 - val_loss: 0.4806\n",
      "Epoch 34/50\n",
      "60000/60000 [==============================] - 15s 257us/step - loss: 0.4737 - val_loss: 0.4666\n",
      "Epoch 35/50\n",
      "60000/60000 [==============================] - 15s 242us/step - loss: 0.4598 - val_loss: 0.4531\n",
      "Epoch 36/50\n",
      "60000/60000 [==============================] - 16s 261us/step - loss: 0.4462 - val_loss: 0.4397\n",
      "Epoch 37/50\n",
      "60000/60000 [==============================] - 15s 252us/step - loss: 0.4330 - val_loss: 0.4267\n",
      "Epoch 38/50\n",
      "60000/60000 [==============================] - 15s 251us/step - loss: 0.4203 - val_loss: 0.4141\n",
      "Epoch 39/50\n",
      "60000/60000 [==============================] - 14s 231us/step - loss: 0.4081 - val_loss: 0.4024\n",
      "Epoch 40/50\n",
      "60000/60000 [==============================] - 15s 247us/step - loss: 0.3967 - val_loss: 0.3913\n",
      "Epoch 41/50\n",
      "60000/60000 [==============================] - 15s 250us/step - loss: 0.3860 - val_loss: 0.3809\n",
      "Epoch 42/50\n",
      "60000/60000 [==============================] - 14s 232us/step - loss: 0.3760 - val_loss: 0.3715\n",
      "Epoch 43/50\n",
      "60000/60000 [==============================] - 15s 251us/step - loss: 0.3668 - val_loss: 0.3625\n",
      "Epoch 44/50\n",
      "60000/60000 [==============================] - 16s 272us/step - loss: 0.3584 - val_loss: 0.3545\n",
      "Epoch 45/50\n",
      "60000/60000 [==============================] - 17s 277us/step - loss: 0.3507 - val_loss: 0.3472\n",
      "Epoch 46/50\n",
      "60000/60000 [==============================] - 13s 211us/step - loss: 0.3436 - val_loss: 0.3405\n",
      "Epoch 47/50\n",
      "60000/60000 [==============================] - 13s 214us/step - loss: 0.3373 - val_loss: 0.3344\n",
      "Epoch 48/50\n",
      "60000/60000 [==============================] - 14s 231us/step - loss: 0.3315 - val_loss: 0.3290\n",
      "Epoch 49/50\n",
      "60000/60000 [==============================] - 15s 249us/step - loss: 0.3263 - val_loss: 0.3240\n",
      "Epoch 50/50\n",
      "60000/60000 [==============================] - 17s 275us/step - loss: 0.3216 - val_loss: 0.3196\n"
     ]
    }
   ],
   "source": [
    "vae_hist = vae.fit(x_train, x_train,\n",
    "        shuffle=True,\n",
    "        epochs=epochs,\n",
    "        batch_size=batch_size,\n",
    "        validation_data=(x_test, x_test))"
   ]
  },
  {
   "cell_type": "code",
   "execution_count": 11,
   "metadata": {},
   "outputs": [],
   "source": [
    "# save model\n",
    "vae.save(\"vae.h5\")"
   ]
  },
  {
   "cell_type": "code",
   "execution_count": 17,
   "metadata": {},
   "outputs": [],
   "source": [
    "# save history\n",
    "vae_hist = vae_hist.history\n",
    "with open('./runs/vae.hist', 'w', encoding=\"utf-8\") as fout:\n",
    "    pprint(vae_hist, fout)"
   ]
  },
  {
   "cell_type": "code",
   "execution_count": 18,
   "metadata": {},
   "outputs": [],
   "source": [
    "def plotLoss(train, test):\n",
    "    iterations = list(range(len(train)))\n",
    "    plt.plot(iterations, train, label=\"train\")\n",
    "    plt.plot(iterations, test, label=\"test\")       \n",
    "\n",
    "    plt.xlabel(\"Number of Iterations\")\n",
    "    plt.ylabel(\"Loss\")\n",
    "    plt.grid(True, linestyle='dotted')\n",
    "    plt.legend() #loc=\"upper left\"\n",
    "\n",
    "    plt.show()"
   ]
  },
  {
   "cell_type": "code",
   "execution_count": 19,
   "metadata": {},
   "outputs": [
    {
     "data": {
      "image/png": "[encoded data removed]",
      "text/plain": [
       "<Figure size 432x288 with 1 Axes>"
      ]
     },
     "metadata": {},
     "output_type": "display_data"
    }
   ],
   "source": [
    "# show loss graph\n",
    "plotLoss(vae_hist['loss'], vae_hist['val_loss'])"
   ]
  },
  {
   "cell_type": "code",
   "execution_count": null,
   "metadata": {},
   "outputs": [],
   "source": [
    "# try to create a photo gallery\n"
   ]
  }
 ],
 "metadata": {
  "kernelspec": {
   "display_name": "Python 3",
   "language": "python",
   "name": "python3"
  },
  "language_info": {
   "codemirror_mode": {
    "name": "ipython",
    "version": 3
   },
   "file_extension": ".py",
   "mimetype": "text/x-python",
   "name": "python",
   "nbconvert_exporter": "python",
   "pygments_lexer": "ipython3",
   "version": "3.6.5"
  }
 },
 "nbformat": 4,
 "nbformat_minor": 2
}
