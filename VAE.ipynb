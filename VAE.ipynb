{
 "cells": [
  {
   "cell_type": "markdown",
   "metadata": {},
   "source": [
    "# Setup"
   ]
  },
  {
   "cell_type": "code",
   "execution_count": 78,
   "metadata": {},
   "outputs": [],
   "source": [
    "from keras.layers import Lambda, Input, Dense\n",
    "from keras.models import Model, load_model\n",
    "from keras.datasets import mnist\n",
    "from keras.losses import mse, binary_crossentropy\n",
    "from keras.utils import plot_model\n",
    "from keras import backend as K\n",
    "from keras.optimizers import RMSprop, Adagrad, Adam, SGD\n",
    "\n",
    "import numpy as np\n",
    "import matplotlib.pyplot as plt\n",
    "import argparse\n",
    "import os\n",
    "\n",
    "from pprint import pprint"
   ]
  },
  {
   "cell_type": "markdown",
   "metadata": {},
   "source": [
    "# MNIST"
   ]
  },
  {
   "cell_type": "code",
   "execution_count": 2,
   "metadata": {},
   "outputs": [],
   "source": [
    "# Reference architecture from\n",
    "# https://blog.keras.io/building-autoencoders-in-keras.html"
   ]
  },
  {
   "cell_type": "code",
   "execution_count": 15,
   "metadata": {},
   "outputs": [],
   "source": [
    "(x_train, y_train), (x_test, y_test) = mnist.load_data()\n",
    "\n",
    "image_size = x_train.shape[1]\n",
    "original_dim = image_size * image_size\n",
    "x_train = np.reshape(x_train, [-1, original_dim])\n",
    "x_test = np.reshape(x_test, [-1, original_dim])\n",
    "x_train = x_train.astype('float32') / 255.\n",
    "x_test = x_test.astype('float32') / 255.\n",
    "\n",
    "# network parameters\n",
    "input_shape = (original_dim, )\n",
    "intermediate_dim = 512 # hyperparameter\n",
    "batch_size = 100\n",
    "latent_dim = 2 # hyperparameter\n",
    "epochs = 50"
   ]
  },
  {
   "cell_type": "code",
   "execution_count": 83,
   "metadata": {},
   "outputs": [
    {
     "name": "stdout",
     "output_type": "stream",
     "text": [
      "60000\n",
      "(60000, 784)\n",
      "10000\n",
      "(10000, 784)\n"
     ]
    }
   ],
   "source": [
    "print(len(x_train))\n",
    "print(x_train.shape)\n",
    "print(len(x_test))\n",
    "print(x_test.shape)"
   ]
  },
  {
   "cell_type": "code",
   "execution_count": 5,
   "metadata": {},
   "outputs": [],
   "source": [
    "# VAE model = encoder + decoder\n",
    "# build encoder model\n",
    "inputs = Input(shape=input_shape)\n",
    "h = Dense(intermediate_dim, activation='relu')(inputs)\n",
    "z_mean = Dense(latent_dim)(h)\n",
    "z_log_sigma = Dense(latent_dim)(h)"
   ]
  },
  {
   "cell_type": "code",
   "execution_count": 6,
   "metadata": {},
   "outputs": [],
   "source": [
    "# reparameterization trick\n",
    "# instead of sampling from Q(z|X), sample eps = N(0,I)\n",
    "# z = z_mean + sqrt(var)*eps\n",
    "def sampling(args):\n",
    "    \"\"\"Reparameterization trick by sampling fr an isotropic unit Gaussian.\n",
    "    # Arguments:\n",
    "        args (tensor): mean and log of variance of Q(z|X)\n",
    "    # Returns:\n",
    "        z (tensor): sampled latent vector\n",
    "    \"\"\"\n",
    "\n",
    "    z_mean, z_log_sigma = args\n",
    "    batch = K.shape(z_mean)[0]\n",
    "    dim = K.int_shape(z_mean)[1]\n",
    "    # by default, random_normal has mean=0 and std=1.0\n",
    "    epsilon = K.random_normal(shape=(batch, dim))\n",
    "    return z_mean + K.exp(0.5 * z_log_sigma) * epsilon"
   ]
  },
  {
   "cell_type": "code",
   "execution_count": 7,
   "metadata": {},
   "outputs": [],
   "source": [
    "# use reparameterization trick to push the sampling out as input\n",
    "# note that \"output_shape\" isn't necessary with the TensorFlow backend\n",
    "z = Lambda(sampling, output_shape=(latent_dim,))([z_mean, z_log_sigma])"
   ]
  },
  {
   "cell_type": "code",
   "execution_count": 8,
   "metadata": {},
   "outputs": [],
   "source": [
    "# encoder, from inputs to latent space\n",
    "encoder = Model(inputs, [z_mean, z_log_sigma, z])"
   ]
  },
  {
   "cell_type": "code",
   "execution_count": 9,
   "metadata": {},
   "outputs": [],
   "source": [
    "# build decorder model\n",
    "latent_inputs = Input(shape=(latent_dim,), name='z_sampling')\n",
    "x = Dense(intermediate_dim, activation='relu')(latent_inputs)\n",
    "outputs = Dense(original_dim, activation='sigmoid')(x)"
   ]
  },
  {
   "cell_type": "code",
   "execution_count": 10,
   "metadata": {},
   "outputs": [],
   "source": [
    "# instantiate decoder model\n",
    "decoder = Model(latent_inputs, outputs)"
   ]
  },
  {
   "cell_type": "code",
   "execution_count": 11,
   "metadata": {},
   "outputs": [],
   "source": [
    "# instantiate VAE model\n",
    "outputs = decoder(encoder(inputs)[2])\n",
    "vae = Model(inputs, outputs)"
   ]
  },
  {
   "cell_type": "code",
   "execution_count": 12,
   "metadata": {},
   "outputs": [
    {
     "name": "stdout",
     "output_type": "stream",
     "text": [
      "_________________________________________________________________\n",
      "Layer (type)                 Output Shape              Param #   \n",
      "=================================================================\n",
      "input_1 (InputLayer)         (None, 784)               0         \n",
      "_________________________________________________________________\n",
      "model_1 (Model)              [(None, 2), (None, 2), (N 403972    \n",
      "_________________________________________________________________\n",
      "model_2 (Model)              (None, 784)               403728    \n",
      "=================================================================\n",
      "Total params: 807,700\n",
      "Trainable params: 807,700\n",
      "Non-trainable params: 0\n",
      "_________________________________________________________________\n"
     ]
    }
   ],
   "source": [
    "vae.summary()"
   ]
  },
  {
   "cell_type": "code",
   "execution_count": 13,
   "metadata": {},
   "outputs": [],
   "source": [
    "reconstruction_loss = binary_crossentropy(inputs, outputs)\n",
    "reconstruction_loss *= original_dim\n",
    "kl_loss = 1 + z_log_sigma - K.square(z_mean) - K.exp(z_log_sigma)\n",
    "kl_loss = K.sum(kl_loss, axis=-1)\n",
    "kl_loss *= -0.5\n",
    "vae_loss = K.mean(reconstruction_loss + kl_loss)\n",
    "\n",
    "sgd = SGD()\n",
    "adam = Adam()\n",
    "vae.add_loss(vae_loss)\n",
    "vae.compile(optimizer=adam)"
   ]
  },
  {
   "cell_type": "markdown",
   "metadata": {},
   "source": [
    "# Training"
   ]
  },
  {
   "cell_type": "markdown",
   "metadata": {},
   "source": [
    "Train our VAE on MNIST digits."
   ]
  },
  {
   "cell_type": "code",
   "execution_count": 16,
   "metadata": {},
   "outputs": [
    {
     "name": "stdout",
     "output_type": "stream",
     "text": [
      "Train on 60000 samples, validate on 10000 samples\n",
      "Epoch 1/50\n",
      "60000/60000 [==============================] - 37s 612us/step - loss: 162.6197 - val_loss: 162.1081\n",
      "Epoch 2/50\n",
      "60000/60000 [==============================] - 36s 597us/step - loss: 161.1554 - val_loss: 160.6469\n",
      "Epoch 3/50\n",
      "60000/60000 [==============================] - 35s 581us/step - loss: 159.6648 - val_loss: 159.3382\n",
      "Epoch 4/50\n",
      "60000/60000 [==============================] - 36s 605us/step - loss: 158.3466 - val_loss: 158.2816\n",
      "Epoch 5/50\n",
      "60000/60000 [==============================] - 37s 610us/step - loss: 157.2585 - val_loss: 157.2018\n",
      "Epoch 6/50\n",
      "60000/60000 [==============================] - 35s 589us/step - loss: 156.3561 - val_loss: 156.4402\n",
      "Epoch 7/50\n",
      "60000/60000 [==============================] - 36s 604us/step - loss: 155.5583 - val_loss: 155.7427\n",
      "Epoch 8/50\n",
      "60000/60000 [==============================] - 37s 613us/step - loss: 154.8576 - val_loss: 155.0281\n",
      "Epoch 9/50\n",
      "60000/60000 [==============================] - 38s 634us/step - loss: 154.2417 - val_loss: 154.7536\n",
      "Epoch 10/50\n",
      "60000/60000 [==============================] - 39s 650us/step - loss: 153.6637 - val_loss: 154.1805\n",
      "Epoch 11/50\n",
      "60000/60000 [==============================] - 37s 621us/step - loss: 153.2281 - val_loss: 153.8052\n",
      "Epoch 12/50\n",
      "60000/60000 [==============================] - 39s 644us/step - loss: 152.7687 - val_loss: 153.4750\n",
      "Epoch 13/50\n",
      "60000/60000 [==============================] - 35s 590us/step - loss: 152.3552 - val_loss: 153.0318\n",
      "Epoch 14/50\n",
      "60000/60000 [==============================] - 37s 617us/step - loss: 151.9915 - val_loss: 152.8832\n",
      "Epoch 15/50\n",
      "60000/60000 [==============================] - 36s 597us/step - loss: 151.6104 - val_loss: 152.4414\n",
      "Epoch 16/50\n",
      "60000/60000 [==============================] - 37s 622us/step - loss: 151.3306 - val_loss: 152.2867\n",
      "Epoch 17/50\n",
      "60000/60000 [==============================] - 36s 607us/step - loss: 151.0324 - val_loss: 152.2214\n",
      "Epoch 18/50\n",
      "60000/60000 [==============================] - 35s 591us/step - loss: 150.7561 - val_loss: 152.0045\n",
      "Epoch 19/50\n",
      "60000/60000 [==============================] - 37s 611us/step - loss: 150.5560 - val_loss: 151.6269\n",
      "Epoch 20/50\n",
      "60000/60000 [==============================] - 37s 612us/step - loss: 150.2782 - val_loss: 151.6921\n",
      "Epoch 21/50\n",
      "60000/60000 [==============================] - 36s 595us/step - loss: 150.0314 - val_loss: 151.6093\n",
      "Epoch 22/50\n",
      "60000/60000 [==============================] - 36s 603us/step - loss: 149.8356 - val_loss: 151.4313\n",
      "Epoch 23/50\n",
      "60000/60000 [==============================] - 37s 618us/step - loss: 149.6197 - val_loss: 150.9328\n",
      "Epoch 24/50\n",
      "60000/60000 [==============================] - 35s 592us/step - loss: 149.4677 - val_loss: 150.9954\n",
      "Epoch 25/50\n",
      "60000/60000 [==============================] - 37s 613us/step - loss: 149.1924 - val_loss: 150.9258\n",
      "Epoch 26/50\n",
      "60000/60000 [==============================] - 34s 572us/step - loss: 149.0525 - val_loss: 150.8267\n",
      "Epoch 27/50\n",
      "60000/60000 [==============================] - 37s 624us/step - loss: 148.8890 - val_loss: 150.9410\n",
      "Epoch 28/50\n",
      "60000/60000 [==============================] - 34s 572us/step - loss: 148.7181 - val_loss: 150.8616\n",
      "Epoch 29/50\n",
      "60000/60000 [==============================] - 36s 604us/step - loss: 148.5200 - val_loss: 150.5458\n",
      "Epoch 30/50\n",
      "60000/60000 [==============================] - 36s 593us/step - loss: 148.3929 - val_loss: 150.4522\n",
      "Epoch 31/50\n",
      "60000/60000 [==============================] - 36s 603us/step - loss: 148.2122 - val_loss: 150.7922\n",
      "Epoch 32/50\n",
      "60000/60000 [==============================] - 36s 607us/step - loss: 148.0600 - val_loss: 150.0139\n",
      "Epoch 33/50\n",
      "60000/60000 [==============================] - 36s 597us/step - loss: 147.9323 - val_loss: 150.0711\n",
      "Epoch 34/50\n",
      "60000/60000 [==============================] - 37s 622us/step - loss: 147.7752 - val_loss: 150.4754\n",
      "Epoch 35/50\n",
      "60000/60000 [==============================] - 37s 617us/step - loss: 147.6775 - val_loss: 150.2965\n",
      "Epoch 36/50\n",
      "60000/60000 [==============================] - 35s 592us/step - loss: 147.5106 - val_loss: 150.2311\n",
      "Epoch 37/50\n",
      "60000/60000 [==============================] - 37s 619us/step - loss: 147.4269 - val_loss: 150.0056\n",
      "Epoch 38/50\n",
      "60000/60000 [==============================] - 36s 604us/step - loss: 147.2611 - val_loss: 149.8823\n",
      "Epoch 39/50\n",
      "60000/60000 [==============================] - 36s 592us/step - loss: 147.1685 - val_loss: 149.7250\n",
      "Epoch 40/50\n",
      "60000/60000 [==============================] - 37s 617us/step - loss: 147.0457 - val_loss: 149.7080\n",
      "Epoch 41/50\n",
      "60000/60000 [==============================] - 37s 609us/step - loss: 146.9261 - val_loss: 149.6528\n",
      "Epoch 42/50\n",
      "60000/60000 [==============================] - 35s 583us/step - loss: 146.7915 - val_loss: 149.6177\n",
      "Epoch 43/50\n",
      "60000/60000 [==============================] - 35s 587us/step - loss: 146.6872 - val_loss: 149.5681\n",
      "Epoch 44/50\n",
      "60000/60000 [==============================] - 35s 588us/step - loss: 146.6145 - val_loss: 149.4634\n",
      "Epoch 45/50\n",
      "60000/60000 [==============================] - 37s 617us/step - loss: 146.5097 - val_loss: 149.4943\n",
      "Epoch 46/50\n",
      "60000/60000 [==============================] - 37s 616us/step - loss: 146.3925 - val_loss: 149.4241\n",
      "Epoch 47/50\n",
      "60000/60000 [==============================] - 37s 622us/step - loss: 146.3330 - val_loss: 149.4790\n",
      "Epoch 48/50\n",
      "60000/60000 [==============================] - 38s 633us/step - loss: 146.2128 - val_loss: 149.2952\n",
      "Epoch 49/50\n",
      "60000/60000 [==============================] - 37s 613us/step - loss: 146.1505 - val_loss: 149.2713\n",
      "Epoch 50/50\n",
      "60000/60000 [==============================] - 36s 600us/step - loss: 146.0204 - val_loss: 149.5606\n"
     ]
    }
   ],
   "source": [
    "vae_hist = vae.fit(x_train,\n",
    "        shuffle=True,\n",
    "        epochs=epochs,\n",
    "        batch_size=batch_size,\n",
    "        validation_data=(x_test, None))"
   ]
  },
  {
   "cell_type": "code",
   "execution_count": 17,
   "metadata": {},
   "outputs": [],
   "source": [
    "# save model\n",
    "vae.save(\"./runs/vae.h5\")"
   ]
  },
  {
   "cell_type": "code",
   "execution_count": 18,
   "metadata": {},
   "outputs": [],
   "source": [
    "vae_hist = vae_hist.history"
   ]
  },
  {
   "cell_type": "code",
   "execution_count": 19,
   "metadata": {},
   "outputs": [],
   "source": [
    "# save history\n",
    "with open('./runs/vae.hist', 'w', encoding=\"utf-8\") as fout:\n",
    "    pprint(vae_hist, fout)"
   ]
  },
  {
   "cell_type": "code",
   "execution_count": 20,
   "metadata": {},
   "outputs": [],
   "source": [
    "def plotLoss(train, test):\n",
    "    iterations = list(range(len(train)))\n",
    "    plt.plot(iterations, train, label=\"train\")\n",
    "    plt.plot(iterations, test, label=\"test\")       \n",
    "\n",
    "    plt.xlabel(\"Number of Iterations\")\n",
    "    plt.ylabel(\"Loss\")\n",
    "    plt.grid(True, linestyle='dotted')\n",
    "    plt.legend() #loc=\"upper left\"\n",
    "\n",
    "    plt.show()"
   ]
  },
  {
   "cell_type": "markdown",
   "metadata": {},
   "source": [
    "# Loss graph"
   ]
  },
  {
   "cell_type": "code",
   "execution_count": 21,
   "metadata": {
    "scrolled": true
   },
   "outputs": [
    {
     "data": {
      "image/png": "[encoded data removed]",
      "text/plain": [
       "<Figure size 432x288 with 1 Axes>"
      ]
     },
     "metadata": {},
     "output_type": "display_data"
    }
   ],
   "source": [
    "# show loss graph\n",
    "plotLoss(vae_hist['loss'], vae_hist['val_loss'])"
   ]
  },
  {
   "cell_type": "markdown",
   "metadata": {},
   "source": [
    "# Photo gallery"
   ]
  },
  {
   "cell_type": "code",
   "execution_count": 22,
   "metadata": {},
   "outputs": [],
   "source": [
    "x_test_encoded = vae.predict(x_test, batch_size=batch_size)"
   ]
  },
  {
   "cell_type": "code",
   "execution_count": 67,
   "metadata": {},
   "outputs": [],
   "source": [
    "def photogallery(photos):\n",
    "    fig = plt.figure(figsize=(4, 12))\n",
    "    for i, entry in enumerate(photos):\n",
    "        ax1 = fig.add_subplot(10,2,i*2+1)\n",
    "        ax1.imshow(entry[0], cmap=plt.cm.gray)\n",
    "        ax2 = fig.add_subplot(10,2,i*2+2)\n",
    "        ax2.imshow(entry[1], cmap=plt.cm.gray)"
   ]
  },
  {
   "cell_type": "code",
   "execution_count": 68,
   "metadata": {},
   "outputs": [
    {
     "name": "stdout",
     "output_type": "stream",
     "text": [
      "original, vae\n"
     ]
    },
    {
     "data": {
      "image/png": "[encoded data removed]",
      "text/plain": [
       "<Figure size 288x864 with 20 Axes>"
      ]
     },
     "metadata": {},
     "output_type": "display_data"
    }
   ],
   "source": [
    "np.random.seed(42)\n",
    "digits = [0, 1, 2, 3, 4, 5, 6, 7, 8, 9]\n",
    "photos = []\n",
    "\n",
    "print(\"original, vae\")\n",
    "for digit in digits:\n",
    "    index0 = np.where(y_test==digit)[0]\n",
    "    pick = index0[np.random.choice(index0.shape[0])]\n",
    "    #digit_indexes.append(pick)\n",
    "    #print(pick)\n",
    "\n",
    "    original = x_test[pick].reshape(image_size, image_size)\n",
    "    encoded = x_test_encoded[pick].reshape(image_size, image_size)\n",
    "    photos.append([original, encoded])\n",
    "    \n",
    "photogallery(photos)"
   ]
  },
  {
   "cell_type": "code",
   "execution_count": null,
   "metadata": {},
   "outputs": [],
   "source": [
    "encoder = Model(x, z_mean)\n",
    "\n",
    "# display a 2D plot of the digit classes in the latent space\n",
    "x_test_encoded = encoder.predict(X_test, batch_size=batch_size)\n",
    "plt.figure(figsize=(6, 6))\n",
    "plt.scatter(x_test_encoded[:, 0], x_test_encoded[:, 1], c=y_test)\n",
    "plt.colorbar()\n",
    "plt.savefig('cifar_vae_mean.pdf')\n",
    "plt.show()"
   ]
  },
  {
   "cell_type": "markdown",
   "metadata": {},
   "source": [
    "# Hyperparameter tuning"
   ]
  },
  {
   "cell_type": "code",
   "execution_count": 69,
   "metadata": {},
   "outputs": [],
   "source": [
    "# try different latent dimension and intermediate dimension, compare losses\n",
    "# build model to reuse with several experiments"
   ]
  },
  {
   "cell_type": "code",
   "execution_count": 70,
   "metadata": {},
   "outputs": [],
   "source": [
    "def vae_model(latent_dim=2, intermediate_dim=512):\n",
    "    # VAE model = encoder + decoder\n",
    "    # build encoder model\n",
    "    print(\"latent_dim: \", latent_dim)\n",
    "    print(\"intermediate_dim: \", intermediate_dim)\n",
    "    inputs = Input(shape=input_shape)\n",
    "    h = Dense(intermediate_dim, activation='relu')(inputs)\n",
    "    z_mean = Dense(latent_dim)(h)\n",
    "    z_log_sigma = Dense(latent_dim)(h)\n",
    "\n",
    "    # reparameterization trick\n",
    "    # instead of sampling from Q(z|X), sample eps = N(0,I)\n",
    "    # z = z_mean + sqrt(var)*eps\n",
    "    def sampling(args):\n",
    "        \"\"\"Reparameterization trick by sampling fr an isotropic unit Gaussian.\n",
    "        # Arguments:\n",
    "            args (tensor): mean and log of variance of Q(z|X)\n",
    "        # Returns:\n",
    "            z (tensor): sampled latent vector\n",
    "        \"\"\"\n",
    "\n",
    "        z_mean, z_log_sigma = args\n",
    "        batch = K.shape(z_mean)[0]\n",
    "        dim = K.int_shape(z_mean)[1]\n",
    "        # by default, random_normal has mean=0 and std=1.0\n",
    "        epsilon = K.random_normal(shape=(batch, dim))\n",
    "        return z_mean + K.exp(0.5 * z_log_sigma) * epsilon\n",
    "\n",
    "    # use reparameterization trick to push the sampling out as input\n",
    "    # note that \"output_shape\" isn't necessary with the TensorFlow backend\n",
    "    z = Lambda(sampling, output_shape=(latent_dim,))([z_mean, z_log_sigma])\n",
    "\n",
    "    # encoder, from inputs to latent space\n",
    "    encoder = Model(inputs, [z_mean, z_log_sigma, z])\n",
    "\n",
    "    # build decorder model\n",
    "    latent_inputs = Input(shape=(latent_dim,), name='z_sampling')\n",
    "    x = Dense(intermediate_dim, activation='relu')(latent_inputs)\n",
    "    outputs = Dense(original_dim, activation='sigmoid')(x)\n",
    "\n",
    "    # instantiate decoder model\n",
    "    decoder = Model(latent_inputs, outputs)\n",
    "\n",
    "    # instantiate VAE model\n",
    "    outputs = decoder(encoder(inputs)[2])\n",
    "    vae = Model(inputs, outputs)\n",
    "    \n",
    "    reconstruction_loss = binary_crossentropy(inputs, outputs)\n",
    "    reconstruction_loss *= original_dim\n",
    "    kl_loss = 1 + z_log_sigma - K.square(z_mean) - K.exp(z_log_sigma)\n",
    "    kl_loss = K.sum(kl_loss, axis=-1)\n",
    "    kl_loss *= -0.5\n",
    "    vae_loss = K.mean(reconstruction_loss + kl_loss)\n",
    "\n",
    "    sgd = SGD()\n",
    "    adam = Adam()\n",
    "    vae.add_loss(vae_loss)\n",
    "    vae.compile(optimizer=adam)\n",
    "\n",
    "    return vae"
   ]
  },
  {
   "cell_type": "code",
   "execution_count": 72,
   "metadata": {},
   "outputs": [
    {
     "name": "stdout",
     "output_type": "stream",
     "text": [
      "latent_dim:  5\n",
      "intermediate_dim:  512\n",
      "Train on 60000 samples, validate on 10000 samples\n",
      "Epoch 1/50\n",
      "60000/60000 [==============================] - 35s 585us/step - loss: 168.3792 - val_loss: 142.2286\n",
      "Epoch 2/50\n",
      "60000/60000 [==============================] - 30s 504us/step - loss: 139.3250 - val_loss: 136.1508\n",
      "Epoch 3/50\n",
      "60000/60000 [==============================] - 30s 497us/step - loss: 135.1586 - val_loss: 133.1762\n",
      "Epoch 4/50\n",
      "60000/60000 [==============================] - 29s 478us/step - loss: 132.8747 - val_loss: 131.5768\n",
      "Epoch 5/50\n",
      "60000/60000 [==============================] - 29s 480us/step - loss: 131.2656 - val_loss: 130.2913\n",
      "Epoch 6/50\n",
      "60000/60000 [==============================] - 29s 481us/step - loss: 129.9778 - val_loss: 129.2677\n",
      "Epoch 7/50\n",
      "60000/60000 [==============================] - 28s 471us/step - loss: 128.8819 - val_loss: 128.1248\n",
      "Epoch 8/50\n",
      "60000/60000 [==============================] - 29s 491us/step - loss: 127.9365 - val_loss: 127.3384\n",
      "Epoch 9/50\n",
      "60000/60000 [==============================] - 29s 480us/step - loss: 127.1052 - val_loss: 126.5041\n",
      "Epoch 10/50\n",
      "60000/60000 [==============================] - 28s 474us/step - loss: 126.3531 - val_loss: 125.7663\n",
      "Epoch 11/50\n",
      "60000/60000 [==============================] - 28s 472us/step - loss: 125.6699 - val_loss: 125.4107\n",
      "Epoch 12/50\n",
      "60000/60000 [==============================] - 27s 449us/step - loss: 125.1781 - val_loss: 124.7802\n",
      "Epoch 13/50\n",
      "60000/60000 [==============================] - 28s 469us/step - loss: 124.6345 - val_loss: 124.4297\n",
      "Epoch 14/50\n",
      "60000/60000 [==============================] - 28s 463us/step - loss: 124.1806 - val_loss: 124.0911\n",
      "Epoch 15/50\n",
      "60000/60000 [==============================] - 27s 456us/step - loss: 123.7876 - val_loss: 123.8096\n",
      "Epoch 16/50\n",
      "60000/60000 [==============================] - 28s 462us/step - loss: 123.4418 - val_loss: 123.7486\n",
      "Epoch 17/50\n",
      "60000/60000 [==============================] - 27s 457us/step - loss: 123.0674 - val_loss: 123.1873\n",
      "Epoch 18/50\n",
      "60000/60000 [==============================] - 28s 465us/step - loss: 122.7599 - val_loss: 122.9871\n",
      "Epoch 19/50\n",
      "60000/60000 [==============================] - 27s 450us/step - loss: 122.4396 - val_loss: 122.8461\n",
      "Epoch 20/50\n",
      "60000/60000 [==============================] - 27s 451us/step - loss: 122.1871 - val_loss: 122.4811\n",
      "Epoch 21/50\n",
      "60000/60000 [==============================] - 28s 470us/step - loss: 121.9116 - val_loss: 122.4833\n",
      "Epoch 22/50\n",
      "60000/60000 [==============================] - 27s 453us/step - loss: 121.7005 - val_loss: 122.2569\n",
      "Epoch 23/50\n",
      "60000/60000 [==============================] - 28s 469us/step - loss: 121.4859 - val_loss: 121.9273\n",
      "Epoch 24/50\n",
      "60000/60000 [==============================] - 28s 470us/step - loss: 121.2373 - val_loss: 121.8703\n",
      "Epoch 25/50\n",
      "60000/60000 [==============================] - 27s 456us/step - loss: 121.0681 - val_loss: 121.8279\n",
      "Epoch 26/50\n",
      "60000/60000 [==============================] - 27s 456us/step - loss: 120.8514 - val_loss: 121.8613\n",
      "Epoch 27/50\n",
      "60000/60000 [==============================] - 27s 452us/step - loss: 120.6823 - val_loss: 121.5700\n",
      "Epoch 28/50\n",
      "60000/60000 [==============================] - 28s 466us/step - loss: 120.4938 - val_loss: 121.5021\n",
      "Epoch 29/50\n",
      "60000/60000 [==============================] - 28s 460us/step - loss: 120.3458 - val_loss: 121.2909\n",
      "Epoch 30/50\n",
      "60000/60000 [==============================] - 27s 451us/step - loss: 120.1918 - val_loss: 121.1512\n",
      "Epoch 31/50\n",
      "60000/60000 [==============================] - 27s 456us/step - loss: 120.0246 - val_loss: 121.0746\n",
      "Epoch 32/50\n",
      "60000/60000 [==============================] - 28s 473us/step - loss: 119.8666 - val_loss: 121.0301\n",
      "Epoch 33/50\n",
      "60000/60000 [==============================] - 28s 463us/step - loss: 119.7061 - val_loss: 121.1223\n",
      "Epoch 34/50\n",
      "60000/60000 [==============================] - 27s 455us/step - loss: 119.5974 - val_loss: 120.8092\n",
      "Epoch 35/50\n",
      "60000/60000 [==============================] - 28s 462us/step - loss: 119.4871 - val_loss: 120.5469\n",
      "Epoch 36/50\n",
      "60000/60000 [==============================] - 28s 462us/step - loss: 119.3649 - val_loss: 120.4896\n",
      "Epoch 37/50\n",
      "60000/60000 [==============================] - 27s 458us/step - loss: 119.2210 - val_loss: 120.4813\n",
      "Epoch 38/50\n",
      "60000/60000 [==============================] - 27s 457us/step - loss: 119.1100 - val_loss: 120.8657\n",
      "Epoch 39/50\n",
      "60000/60000 [==============================] - 28s 466us/step - loss: 119.0033 - val_loss: 120.5326\n",
      "Epoch 40/50\n",
      "60000/60000 [==============================] - 28s 462us/step - loss: 118.9314 - val_loss: 120.3587\n",
      "Epoch 41/50\n",
      "60000/60000 [==============================] - 27s 449us/step - loss: 118.7991 - val_loss: 120.4551\n",
      "Epoch 42/50\n",
      "60000/60000 [==============================] - 28s 459us/step - loss: 118.6973 - val_loss: 120.0099\n",
      "Epoch 43/50\n",
      "60000/60000 [==============================] - 27s 451us/step - loss: 118.6189 - val_loss: 120.2318\n",
      "Epoch 44/50\n",
      "60000/60000 [==============================] - 29s 478us/step - loss: 118.5223 - val_loss: 120.2213\n",
      "Epoch 45/50\n",
      "60000/60000 [==============================] - 28s 461us/step - loss: 118.4050 - val_loss: 120.1580\n",
      "Epoch 46/50\n",
      "60000/60000 [==============================] - 28s 466us/step - loss: 118.3313 - val_loss: 120.0439\n",
      "Epoch 47/50\n",
      "60000/60000 [==============================] - 28s 461us/step - loss: 118.2262 - val_loss: 119.9568\n",
      "Epoch 48/50\n",
      "60000/60000 [==============================] - 27s 453us/step - loss: 118.1687 - val_loss: 119.7811\n",
      "Epoch 49/50\n",
      "60000/60000 [==============================] - 28s 466us/step - loss: 118.0641 - val_loss: 119.8892\n",
      "Epoch 50/50\n",
      "60000/60000 [==============================] - 27s 452us/step - loss: 118.0069 - val_loss: 119.8652\n",
      "latent_dim:  10\n",
      "intermediate_dim:  512\n",
      "Train on 60000 samples, validate on 10000 samples\n",
      "Epoch 1/50\n",
      "60000/60000 [==============================] - 30s 494us/step - loss: 156.8628 - val_loss: 127.8360\n",
      "Epoch 2/50\n",
      "60000/60000 [==============================] - 28s 471us/step - loss: 124.3982 - val_loss: 120.1525\n",
      "Epoch 3/50\n",
      "60000/60000 [==============================] - 27s 456us/step - loss: 119.3171 - val_loss: 116.7563\n",
      "Epoch 4/50\n",
      "60000/60000 [==============================] - 28s 473us/step - loss: 116.5851 - val_loss: 114.8650\n",
      "Epoch 5/50\n",
      "60000/60000 [==============================] - 28s 463us/step - loss: 114.8338 - val_loss: 113.2326\n",
      "Epoch 6/50\n",
      "60000/60000 [==============================] - 28s 464us/step - loss: 113.5084 - val_loss: 112.3616\n",
      "Epoch 7/50\n",
      "60000/60000 [==============================] - 20s 326us/step - loss: 112.4998 - val_loss: 111.2677\n",
      "Epoch 8/50\n",
      "60000/60000 [==============================] - 18s 306us/step - loss: 111.6802 - val_loss: 110.6543\n",
      "Epoch 9/50\n",
      "60000/60000 [==============================] - 18s 300us/step - loss: 110.9745 - val_loss: 110.2566\n",
      "Epoch 10/50\n",
      "60000/60000 [==============================] - 18s 299us/step - loss: 110.3559 - val_loss: 109.3983\n",
      "Epoch 11/50\n",
      "60000/60000 [==============================] - 18s 298us/step - loss: 109.7923 - val_loss: 109.1120\n",
      "Epoch 12/50\n",
      "60000/60000 [==============================] - 18s 298us/step - loss: 109.3115 - val_loss: 108.9052\n",
      "Epoch 13/50\n",
      "60000/60000 [==============================] - 18s 299us/step - loss: 108.8726 - val_loss: 108.2339\n",
      "Epoch 14/50\n",
      "60000/60000 [==============================] - 18s 302us/step - loss: 108.4275 - val_loss: 108.1443\n",
      "Epoch 15/50\n",
      "60000/60000 [==============================] - 18s 298us/step - loss: 108.1324 - val_loss: 107.6711\n",
      "Epoch 16/50\n",
      "60000/60000 [==============================] - 18s 298us/step - loss: 107.7582 - val_loss: 107.5112\n",
      "Epoch 17/50\n",
      "60000/60000 [==============================] - 18s 300us/step - loss: 107.4491 - val_loss: 107.1609\n",
      "Epoch 18/50\n",
      "60000/60000 [==============================] - 18s 298us/step - loss: 107.1566 - val_loss: 106.9566\n",
      "Epoch 19/50\n",
      "60000/60000 [==============================] - 18s 303us/step - loss: 106.8804 - val_loss: 106.7594\n",
      "Epoch 20/50\n",
      "60000/60000 [==============================] - 18s 298us/step - loss: 106.6739 - val_loss: 106.6100\n",
      "Epoch 21/50\n",
      "60000/60000 [==============================] - 18s 299us/step - loss: 106.4341 - val_loss: 106.2225\n",
      "Epoch 22/50\n"
     ]
    },
    {
     "name": "stdout",
     "output_type": "stream",
     "text": [
      "60000/60000 [==============================] - 18s 303us/step - loss: 106.2340 - val_loss: 106.2202\n",
      "Epoch 23/50\n",
      "60000/60000 [==============================] - 18s 301us/step - loss: 106.0095 - val_loss: 106.2407\n",
      "Epoch 24/50\n",
      "60000/60000 [==============================] - 18s 300us/step - loss: 105.8064 - val_loss: 105.8542\n",
      "Epoch 25/50\n",
      "60000/60000 [==============================] - 18s 298us/step - loss: 105.6747 - val_loss: 105.9508\n",
      "Epoch 26/50\n",
      "60000/60000 [==============================] - 18s 298us/step - loss: 105.5710 - val_loss: 105.7663\n",
      "Epoch 27/50\n",
      "60000/60000 [==============================] - 18s 302us/step - loss: 105.3774 - val_loss: 105.6330\n",
      "Epoch 28/50\n",
      "60000/60000 [==============================] - 18s 302us/step - loss: 105.2338 - val_loss: 105.4973\n",
      "Epoch 29/50\n",
      "60000/60000 [==============================] - 18s 298us/step - loss: 105.0890 - val_loss: 105.5452\n",
      "Epoch 30/50\n",
      "60000/60000 [==============================] - 18s 301us/step - loss: 104.9554 - val_loss: 105.3635\n",
      "Epoch 31/50\n",
      "60000/60000 [==============================] - 18s 298us/step - loss: 104.8364 - val_loss: 105.2747\n",
      "Epoch 32/50\n",
      "60000/60000 [==============================] - 18s 298us/step - loss: 104.7640 - val_loss: 105.3176\n",
      "Epoch 33/50\n",
      "60000/60000 [==============================] - 18s 298us/step - loss: 104.6345 - val_loss: 105.3431\n",
      "Epoch 34/50\n",
      "60000/60000 [==============================] - 18s 298us/step - loss: 104.5375 - val_loss: 105.2062\n",
      "Epoch 35/50\n",
      "60000/60000 [==============================] - 18s 298us/step - loss: 104.4357 - val_loss: 105.1576\n",
      "Epoch 36/50\n",
      "60000/60000 [==============================] - 18s 299us/step - loss: 104.3274 - val_loss: 104.7782\n",
      "Epoch 37/50\n",
      "60000/60000 [==============================] - 18s 298us/step - loss: 104.2604 - val_loss: 104.9270\n",
      "Epoch 38/50\n",
      "60000/60000 [==============================] - 18s 300us/step - loss: 104.1423 - val_loss: 104.8413\n",
      "Epoch 39/50\n",
      "60000/60000 [==============================] - 18s 302us/step - loss: 104.1160 - val_loss: 104.7064\n",
      "Epoch 40/50\n",
      "60000/60000 [==============================] - 18s 298us/step - loss: 104.0341 - val_loss: 104.8756\n",
      "Epoch 41/50\n",
      "60000/60000 [==============================] - 18s 297us/step - loss: 103.9474 - val_loss: 104.7183\n",
      "Epoch 42/50\n",
      "60000/60000 [==============================] - 18s 299us/step - loss: 103.8527 - val_loss: 104.6138\n",
      "Epoch 43/50\n",
      "60000/60000 [==============================] - 18s 298us/step - loss: 103.7853 - val_loss: 104.6521\n",
      "Epoch 44/50\n",
      "60000/60000 [==============================] - 18s 299us/step - loss: 103.7181 - val_loss: 104.5551\n",
      "Epoch 45/50\n",
      "60000/60000 [==============================] - 18s 298us/step - loss: 103.7282 - val_loss: 104.6599\n",
      "Epoch 46/50\n",
      "60000/60000 [==============================] - 18s 299us/step - loss: 103.6101 - val_loss: 104.4723\n",
      "Epoch 47/50\n",
      "60000/60000 [==============================] - 18s 299us/step - loss: 103.5470 - val_loss: 104.4340\n",
      "Epoch 48/50\n",
      "60000/60000 [==============================] - 18s 299us/step - loss: 103.4959 - val_loss: 104.3290\n",
      "Epoch 49/50\n",
      "60000/60000 [==============================] - 18s 299us/step - loss: 103.4465 - val_loss: 104.4314\n",
      "Epoch 50/50\n",
      "60000/60000 [==============================] - 18s 299us/step - loss: 103.4127 - val_loss: 104.3578\n"
     ]
    }
   ],
   "source": [
    "# try different latent_dim\n",
    "latent_dims = [5,10]\n",
    "\n",
    "for latent_dim in latent_dims:\n",
    "    vae_mdl = vae_model(latent_dim=latent_dim)\n",
    "    vae_hist = vae_mdl.fit(x_train,\n",
    "            shuffle=True,\n",
    "            epochs=epochs,\n",
    "            batch_size=batch_size,\n",
    "            validation_data=(x_test, None))\n",
    "    \n",
    "    # save model\n",
    "    vae_mdl.save('./runs/vae_intermediate_512_latent_'+str(latent_dim)+'.h5')\n",
    "    \n",
    "    # save history\n",
    "    with open('./runs/vae_intermediate_512_latent_'+str(latent_dim)+'.hist', 'w', encoding=\"utf-8\") as fout:\n",
    "        pprint(vae_hist.history, fout)"
   ]
  },
  {
   "cell_type": "code",
   "execution_count": 73,
   "metadata": {},
   "outputs": [],
   "source": [
    "# read history from file\n",
    "with open('./runs/vae_intermediate_512_latent_5.hist', 'r', encoding=\"utf-8\") as fin:\n",
    "    vae_hist = eval(fin.read())"
   ]
  },
  {
   "cell_type": "code",
   "execution_count": 74,
   "metadata": {},
   "outputs": [
    {
     "data": {
      "image/png": "[encoded data removed]",
      "text/plain": [
       "<Figure size 432x288 with 1 Axes>"
      ]
     },
     "metadata": {},
     "output_type": "display_data"
    }
   ],
   "source": [
    "plotLoss(vae_hist['loss'], vae_hist['val_loss'])"
   ]
  },
  {
   "cell_type": "code",
   "execution_count": 75,
   "metadata": {},
   "outputs": [],
   "source": [
    "# read history from file\n",
    "with open('./runs/vae_intermediate_512_latent_10.hist', 'r', encoding=\"utf-8\") as fin:\n",
    "    vae_hist = eval(fin.read())"
   ]
  },
  {
   "cell_type": "code",
   "execution_count": 76,
   "metadata": {},
   "outputs": [
    {
     "data": {
      "image/png": "[encoded data removed]",
      "text/plain": [
       "<Figure size 432x288 with 1 Axes>"
      ]
     },
     "metadata": {},
     "output_type": "display_data"
    }
   ],
   "source": [
    "plotLoss(vae_hist['loss'], vae_hist['val_loss'])"
   ]
  },
  {
   "cell_type": "code",
   "execution_count": 80,
   "metadata": {},
   "outputs": [],
   "source": [
    "# load model\n",
    "#model = load_model('./runs/vae_intermediate_512_latent_10.h5')"
   ]
  },
  {
   "cell_type": "code",
   "execution_count": 82,
   "metadata": {},
   "outputs": [
    {
     "name": "stdout",
     "output_type": "stream",
     "text": [
      "latent: 10, intermediate: 512\n",
      "original, vae\n"
     ]
    },
    {
     "data": {
      "image/png": "[encoded data removed]",
      "text/plain": [
       "<Figure size 288x864 with 20 Axes>"
      ]
     },
     "metadata": {},
     "output_type": "display_data"
    }
   ],
   "source": [
    "x_test_encoded = vae_mdl.predict(x_test, batch_size=batch_size)\n",
    "\n",
    "np.random.seed(42)\n",
    "digits = [0, 1, 2, 3, 4, 5, 6, 7, 8, 9]\n",
    "photos = []\n",
    "\n",
    "print(\"latent: 10, intermediate: 512\")\n",
    "print(\"original, vae\")\n",
    "for digit in digits:\n",
    "    index0 = np.where(y_test==digit)[0]\n",
    "    pick = index0[np.random.choice(index0.shape[0])]\n",
    "    #digit_indexes.append(pick)\n",
    "    #print(pick)\n",
    "\n",
    "    original = x_test[pick].reshape(image_size, image_size)\n",
    "    encoded = x_test_encoded[pick].reshape(image_size, image_size)\n",
    "    photos.append([original, encoded])\n",
    "    \n",
    "photogallery(photos)"
   ]
  },
  {
   "cell_type": "code",
   "execution_count": null,
   "metadata": {},
   "outputs": [],
   "source": [
    "# decide on best latent_dim\n",
    "# try different intermediate_dim\n",
    "intermediate_dims = [256,1024]\n",
    "models = []\n",
    "for intermediate_dim in intermediate_dims:\n",
    "    vae_mdl = vae_model(latent_dim=10, intermediate_dim=intermediate_dim)\n",
    "    vae_hist = vae_mdl.fit(x_train,\n",
    "            shuffle=True,\n",
    "            epochs=epochs,\n",
    "            batch_size=batch_size,\n",
    "            validation_data=(x_test, None))\n",
    "    \n",
    "    # save model\n",
    "    models.append(vae_mdl)\n",
    "    #vae_mdl.save('./runs/vae_intermediate_'+str(intermediate_dim)+'_latent_xxx.h5')\n",
    "    \n",
    "    # save history\n",
    "    with open('./runs/vae_intermediate_'+str(intermediate_dim)+'_latent_10.hist', 'w', encoding=\"utf-8\") as fout:\n",
    "        pprint(vae_hist.history, fout)\n",
    "        \n",
    "#vae_model = vae_model(latent_dim=, intermediate_dim=256)\n",
    "#vae_model = vae_model(latent_dim=, intermediate_dim=512)\n",
    "#vae_model = vae_model(latent_dim=, intermediate_dim=1024)"
   ]
  },
  {
   "cell_type": "markdown",
   "metadata": {},
   "source": [
    "# CIFAR-10"
   ]
  },
  {
   "cell_type": "code",
   "execution_count": null,
   "metadata": {},
   "outputs": [],
   "source": []
  }
 ],
 "metadata": {
  "kernelspec": {
   "display_name": "Python 3",
   "language": "python",
   "name": "python3"
  },
  "language_info": {
   "codemirror_mode": {
    "name": "ipython",
    "version": 3
   },
   "file_extension": ".py",
   "mimetype": "text/x-python",
   "name": "python",
   "nbconvert_exporter": "python",
   "pygments_lexer": "ipython3",
   "version": "3.6.5"
  }
 },
 "nbformat": 4,
 "nbformat_minor": 2
}
